{
 "cells": [
  {
   "cell_type": "markdown",
   "id": "84fa5039-3ebe-43cb-8eaa-78a3eb76eb5c",
   "metadata": {},
   "source": [
    "# Jupyter Lab\n",
    "\n",
    "Table of Contents:\n",
    "* [Introspection](#Introspection)\n",
    "* [Imports](#Imports)"
   ]
  },
  {
   "cell_type": "code",
   "execution_count": 5,
   "id": "5099e566-2e24-4a34-a9d0-d3c7c1a93059",
   "metadata": {},
   "outputs": [],
   "source": [
    "b = [1, 2, 3]\n",
    "\n",
    "def sum(a, b):\n",
    "    \"\"\"\n",
    "    Add two numbers together\n",
    "\n",
    "    Returns\n",
    "    -------\n",
    "    the_sum : type of arguments\n",
    "    \"\"\"\n",
    "    return a + b"
   ]
  },
  {
   "cell_type": "markdown",
   "id": "8d30441d-244c-442c-8ef4-e19d9a24962e",
   "metadata": {},
   "source": [
    "## Introspection\n",
    "\n",
    "Using a question mark (?) before or after a variable will display some general information about the object:"
   ]
  },
  {
   "cell_type": "code",
   "execution_count": 2,
   "id": "405d81a9-7a5c-4e73-b2bb-dc10d95b4e11",
   "metadata": {},
   "outputs": [
    {
     "data": {
      "text/plain": [
       "\u001b[0;31mType:\u001b[0m        list\n",
       "\u001b[0;31mString form:\u001b[0m [1, 2, 3]\n",
       "\u001b[0;31mLength:\u001b[0m      3\n",
       "\u001b[0;31mDocstring:\u001b[0m  \n",
       "Built-in mutable sequence.\n",
       "\n",
       "If no argument is given, the constructor creates a new empty list.\n",
       "The argument must be an iterable if specified."
      ]
     },
     "metadata": {},
     "output_type": "display_data"
    }
   ],
   "source": [
    "b?"
   ]
  },
  {
   "cell_type": "code",
   "execution_count": 6,
   "id": "bf226433-594b-499f-a376-a2f0ce1da88d",
   "metadata": {},
   "outputs": [
    {
     "data": {
      "text/plain": [
       "\u001b[0;31mSignature:\u001b[0m \u001b[0msum\u001b[0m\u001b[0;34m(\u001b[0m\u001b[0ma\u001b[0m\u001b[0;34m,\u001b[0m \u001b[0mb\u001b[0m\u001b[0;34m)\u001b[0m\u001b[0;34m\u001b[0m\u001b[0;34m\u001b[0m\u001b[0m\n",
       "\u001b[0;31mDocstring:\u001b[0m\n",
       "Add two numbers together\n",
       "\n",
       "Returns\n",
       "-------\n",
       "the_sum : type of arguments\n",
       "\u001b[0;31mFile:\u001b[0m      /tmp/ipykernel_9925/1386953097.py\n",
       "\u001b[0;31mType:\u001b[0m      function"
      ]
     },
     "metadata": {},
     "output_type": "display_data"
    }
   ],
   "source": [
    "sum?"
   ]
  },
  {
   "cell_type": "markdown",
   "id": "4748182c-2808-446e-893f-55343e699d3a",
   "metadata": {},
   "source": [
    "## Imports\n",
    "\n",
    "Importing a module can import everything or just part of the module:"
   ]
  },
  {
   "cell_type": "code",
   "execution_count": 7,
   "id": "9cb036c3-7891-4de9-8331-d588365d44a7",
   "metadata": {},
   "outputs": [],
   "source": [
    "# import everything from pandas\n",
    "# and import it as a different name\n",
    "import pandas as pd"
   ]
  },
  {
   "cell_type": "code",
   "execution_count": 9,
   "id": "c65bc54f-9b27-4315-b98e-560e8a3f7ea6",
   "metadata": {},
   "outputs": [],
   "source": [
    "# import Path from the pathlib module\n",
    "from pathlib import Path"
   ]
  },
  {
   "cell_type": "code",
   "execution_count": null,
   "id": "cb6dd857-987d-4be7-a897-5ac8de18b757",
   "metadata": {},
   "outputs": [],
   "source": []
  }
 ],
 "metadata": {
  "kernelspec": {
   "display_name": "Python 3 (ipykernel)",
   "language": "python",
   "name": "python3"
  },
  "language_info": {
   "codemirror_mode": {
    "name": "ipython",
    "version": 3
   },
   "file_extension": ".py",
   "mimetype": "text/x-python",
   "name": "python",
   "nbconvert_exporter": "python",
   "pygments_lexer": "ipython3",
   "version": "3.11.6"
  }
 },
 "nbformat": 4,
 "nbformat_minor": 5
}
