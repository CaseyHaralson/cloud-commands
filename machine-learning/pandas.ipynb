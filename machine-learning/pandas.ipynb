{
 "cells": [
  {
   "cell_type": "code",
   "execution_count": 1,
   "id": "c04d0e9f-9661-4394-bcb1-6d2cceb29774",
   "metadata": {},
   "outputs": [],
   "source": [
    "import pandas as pd\n",
    "\n",
    "# might want to import Series and DataFrame too\n",
    "#from pandas import Series, DataFrame"
   ]
  },
  {
   "cell_type": "markdown",
   "id": "7e8f56a4-9177-4e3c-98c8-1dc2a030384b",
   "metadata": {},
   "source": [
    "## Series\n",
    "\n",
    "Series: https://wesmckinney.com/book/pandas-basics#pandas_series\n",
    "\n",
    "Index Functions: https://wesmckinney.com/book/pandas-basics#tbl-table_index_methods"
   ]
  },
  {
   "cell_type": "code",
   "execution_count": 2,
   "id": "9ec6dfeb-75af-4a58-8258-6acb54123798",
   "metadata": {},
   "outputs": [
    {
     "data": {
      "text/plain": [
       "0    4\n",
       "1    7\n",
       "2   -5\n",
       "3    3\n",
       "dtype: int64"
      ]
     },
     "execution_count": 2,
     "metadata": {},
     "output_type": "execute_result"
    }
   ],
   "source": [
    "# pandas series\n",
    "obj = pd.Series([4, 7, -5, 3])\n",
    "obj"
   ]
  },
  {
   "cell_type": "code",
   "execution_count": 10,
   "id": "93349ba0-52cb-4ca6-82db-49e696a80f3d",
   "metadata": {},
   "outputs": [
    {
     "data": {
      "text/plain": [
       "(RangeIndex(start=0, stop=4, step=1),\n",
       " '---',\n",
       " <NumpyExtensionArray>\n",
       " [4, 7, -5, 3]\n",
       " Length: 4, dtype: int64)"
      ]
     },
     "execution_count": 10,
     "metadata": {},
     "output_type": "execute_result"
    }
   ],
   "source": [
    "# the series has an index and an array\n",
    "# the array is typically a numpy array\n",
    "obj.index, '---', obj.array"
   ]
  },
  {
   "cell_type": "code",
   "execution_count": 9,
   "id": "a67de253-1ee1-4e29-816a-e5ef3429f001",
   "metadata": {},
   "outputs": [
    {
     "data": {
      "text/plain": [
       "(d    4\n",
       " b    7\n",
       " a   -5\n",
       " c    3\n",
       " dtype: int64,\n",
       " '---',\n",
       " Index(['d', 'b', 'a', 'c'], dtype='object'))"
      ]
     },
     "execution_count": 9,
     "metadata": {},
     "output_type": "execute_result"
    }
   ],
   "source": [
    "# indexes can be specified too\n",
    "# but indexes are immutable after creation\n",
    "obj2 = pd.Series([4, 7, -5, 3], index=[\"d\", \"b\", \"a\", \"c\"])\n",
    "obj2, '---', obj2.index"
   ]
  },
  {
   "cell_type": "code",
   "execution_count": 14,
   "id": "4fdef1c4-b3b5-4fe5-a2c4-b67bd476b1b2",
   "metadata": {},
   "outputs": [
    {
     "data": {
      "text/plain": [
       "(Ohio      35000\n",
       " Texas     71000\n",
       " Oregon    16000\n",
       " Utah       5000\n",
       " dtype: int64,\n",
       " '---',\n",
       " {'Ohio': 35000, 'Texas': 71000, 'Oregon': 16000, 'Utah': 5000})"
      ]
     },
     "execution_count": 14,
     "metadata": {},
     "output_type": "execute_result"
    }
   ],
   "source": [
    "# series are like dictionaries\n",
    "# and can be created from a dictionary\n",
    "# and then converted back to a dictionary\n",
    "sdata = {\"Ohio\": 35000, \"Texas\": 71000, \"Oregon\": 16000, \"Utah\": 5000}\n",
    "obj3 = pd.Series(sdata)\n",
    "obj3, '---', obj3.to_dict()"
   ]
  },
  {
   "cell_type": "markdown",
   "id": "411c6427-c9e1-4fb0-aae9-85404ab7e20a",
   "metadata": {},
   "source": [
    "## DataFrame\n",
    "\n",
    "DataFrame: https://wesmckinney.com/book/pandas-basics#pandas_dataframe\n",
    "\n",
    "Constructors: https://wesmckinney.com/book/pandas-basics#tbl-table_dataframe_constructor"
   ]
  },
  {
   "cell_type": "code",
   "execution_count": 16,
   "id": "567dc2ce-14ce-4c18-b7b6-0cdf847142d2",
   "metadata": {},
   "outputs": [
    {
     "data": {
      "text/html": [
       "<div>\n",
       "<style scoped>\n",
       "    .dataframe tbody tr th:only-of-type {\n",
       "        vertical-align: middle;\n",
       "    }\n",
       "\n",
       "    .dataframe tbody tr th {\n",
       "        vertical-align: top;\n",
       "    }\n",
       "\n",
       "    .dataframe thead th {\n",
       "        text-align: right;\n",
       "    }\n",
       "</style>\n",
       "<table border=\"1\" class=\"dataframe\">\n",
       "  <thead>\n",
       "    <tr style=\"text-align: right;\">\n",
       "      <th></th>\n",
       "      <th>state</th>\n",
       "      <th>year</th>\n",
       "      <th>pop</th>\n",
       "    </tr>\n",
       "  </thead>\n",
       "  <tbody>\n",
       "    <tr>\n",
       "      <th>0</th>\n",
       "      <td>Ohio</td>\n",
       "      <td>2000</td>\n",
       "      <td>1.5</td>\n",
       "    </tr>\n",
       "    <tr>\n",
       "      <th>1</th>\n",
       "      <td>Ohio</td>\n",
       "      <td>2001</td>\n",
       "      <td>1.7</td>\n",
       "    </tr>\n",
       "    <tr>\n",
       "      <th>2</th>\n",
       "      <td>Ohio</td>\n",
       "      <td>2002</td>\n",
       "      <td>3.6</td>\n",
       "    </tr>\n",
       "    <tr>\n",
       "      <th>3</th>\n",
       "      <td>Nevada</td>\n",
       "      <td>2001</td>\n",
       "      <td>2.4</td>\n",
       "    </tr>\n",
       "    <tr>\n",
       "      <th>4</th>\n",
       "      <td>Nevada</td>\n",
       "      <td>2002</td>\n",
       "      <td>2.9</td>\n",
       "    </tr>\n",
       "    <tr>\n",
       "      <th>5</th>\n",
       "      <td>Nevada</td>\n",
       "      <td>2003</td>\n",
       "      <td>3.2</td>\n",
       "    </tr>\n",
       "  </tbody>\n",
       "</table>\n",
       "</div>"
      ],
      "text/plain": [
       "    state  year  pop\n",
       "0    Ohio  2000  1.5\n",
       "1    Ohio  2001  1.7\n",
       "2    Ohio  2002  3.6\n",
       "3  Nevada  2001  2.4\n",
       "4  Nevada  2002  2.9\n",
       "5  Nevada  2003  3.2"
      ]
     },
     "execution_count": 16,
     "metadata": {},
     "output_type": "execute_result"
    }
   ],
   "source": [
    "# pandas dataframe\n",
    "data = {\"state\": [\"Ohio\", \"Ohio\", \"Ohio\", \"Nevada\", \"Nevada\", \"Nevada\"],\n",
    "        \"year\": [2000, 2001, 2002, 2001, 2002, 2003],\n",
    "        \"pop\": [1.5, 1.7, 3.6, 2.4, 2.9, 3.2]}\n",
    "frame = pd.DataFrame(data)\n",
    "frame"
   ]
  },
  {
   "cell_type": "code",
   "execution_count": 18,
   "id": "91fb9a96-c3b3-440e-9c7e-6b1819c5954d",
   "metadata": {},
   "outputs": [
    {
     "data": {
      "text/plain": [
       "(    state  year  pop\n",
       " 0    Ohio  2000  1.5\n",
       " 1    Ohio  2001  1.7\n",
       " 2    Ohio  2002  3.6\n",
       " 3  Nevada  2001  2.4\n",
       " 4  Nevada  2002  2.9,\n",
       " '---',\n",
       "     state  year  pop\n",
       " 1    Ohio  2001  1.7\n",
       " 2    Ohio  2002  3.6\n",
       " 3  Nevada  2001  2.4\n",
       " 4  Nevada  2002  2.9\n",
       " 5  Nevada  2003  3.2)"
      ]
     },
     "execution_count": 18,
     "metadata": {},
     "output_type": "execute_result"
    }
   ],
   "source": [
    "# the head and tail methods will only show the top/bottom 5 rows\n",
    "frame.head(), '---', frame.tail()"
   ]
  },
  {
   "cell_type": "code",
   "execution_count": 23,
   "id": "31462f2f-0ee0-4259-ab5d-d0d6f0ab7ab0",
   "metadata": {},
   "outputs": [
    {
     "data": {
      "text/plain": [
       "(0      Ohio\n",
       " 1      Ohio\n",
       " 2      Ohio\n",
       " 3    Nevada\n",
       " 4    Nevada\n",
       " 5    Nevada\n",
       " Name: state, dtype: object,\n",
       " '---',\n",
       " 0    2000\n",
       " 1    2001\n",
       " 2    2002\n",
       " 3    2001\n",
       " 4    2002\n",
       " 5    2003\n",
       " Name: year, dtype: int64)"
      ]
     },
     "execution_count": 23,
     "metadata": {},
     "output_type": "execute_result"
    }
   ],
   "source": [
    "# columns can be accessed by dictionary like notation \n",
    "# or by dot attribute notation (as long as the attribute is valid and doesn't conflict)\n",
    "frame['state'], '---', frame.year # can't do frame.pop for example"
   ]
  },
  {
   "cell_type": "code",
   "execution_count": 24,
   "id": "e0f99ec3-0d1f-4c17-88d0-a7898293f0bd",
   "metadata": {},
   "outputs": [
    {
     "data": {
      "text/html": [
       "<div>\n",
       "<style scoped>\n",
       "    .dataframe tbody tr th:only-of-type {\n",
       "        vertical-align: middle;\n",
       "    }\n",
       "\n",
       "    .dataframe tbody tr th {\n",
       "        vertical-align: top;\n",
       "    }\n",
       "\n",
       "    .dataframe thead th {\n",
       "        text-align: right;\n",
       "    }\n",
       "</style>\n",
       "<table border=\"1\" class=\"dataframe\">\n",
       "  <thead>\n",
       "    <tr style=\"text-align: right;\">\n",
       "      <th></th>\n",
       "      <th>state</th>\n",
       "      <th>year</th>\n",
       "      <th>pop</th>\n",
       "      <th>debt</th>\n",
       "    </tr>\n",
       "  </thead>\n",
       "  <tbody>\n",
       "    <tr>\n",
       "      <th>0</th>\n",
       "      <td>Ohio</td>\n",
       "      <td>2000</td>\n",
       "      <td>1.5</td>\n",
       "      <td>NaN</td>\n",
       "    </tr>\n",
       "    <tr>\n",
       "      <th>1</th>\n",
       "      <td>Ohio</td>\n",
       "      <td>2001</td>\n",
       "      <td>1.7</td>\n",
       "      <td>NaN</td>\n",
       "    </tr>\n",
       "    <tr>\n",
       "      <th>2</th>\n",
       "      <td>Ohio</td>\n",
       "      <td>2002</td>\n",
       "      <td>3.6</td>\n",
       "      <td>-1.2</td>\n",
       "    </tr>\n",
       "    <tr>\n",
       "      <th>3</th>\n",
       "      <td>Nevada</td>\n",
       "      <td>2001</td>\n",
       "      <td>2.4</td>\n",
       "      <td>NaN</td>\n",
       "    </tr>\n",
       "    <tr>\n",
       "      <th>4</th>\n",
       "      <td>Nevada</td>\n",
       "      <td>2002</td>\n",
       "      <td>2.9</td>\n",
       "      <td>-1.5</td>\n",
       "    </tr>\n",
       "    <tr>\n",
       "      <th>5</th>\n",
       "      <td>Nevada</td>\n",
       "      <td>2003</td>\n",
       "      <td>3.2</td>\n",
       "      <td>-1.7</td>\n",
       "    </tr>\n",
       "  </tbody>\n",
       "</table>\n",
       "</div>"
      ],
      "text/plain": [
       "    state  year  pop  debt\n",
       "0    Ohio  2000  1.5   NaN\n",
       "1    Ohio  2001  1.7   NaN\n",
       "2    Ohio  2002  3.6  -1.2\n",
       "3  Nevada  2001  2.4   NaN\n",
       "4  Nevada  2002  2.9  -1.5\n",
       "5  Nevada  2003  3.2  -1.7"
      ]
     },
     "execution_count": 24,
     "metadata": {},
     "output_type": "execute_result"
    }
   ],
   "source": [
    "# you can add a series to a dataframe\n",
    "s = pd.Series([-1.2, -1.5, -1.7], index=[2, 4, 5])\n",
    "frame['debt'] = s\n",
    "frame"
   ]
  },
  {
   "cell_type": "code",
   "execution_count": null,
   "id": "d3e98c4b-a733-4cd3-82ca-e447f01c88b7",
   "metadata": {},
   "outputs": [],
   "source": []
  }
 ],
 "metadata": {
  "kernelspec": {
   "display_name": "Python 3 (ipykernel)",
   "language": "python",
   "name": "python3"
  },
  "language_info": {
   "codemirror_mode": {
    "name": "ipython",
    "version": 3
   },
   "file_extension": ".py",
   "mimetype": "text/x-python",
   "name": "python",
   "nbconvert_exporter": "python",
   "pygments_lexer": "ipython3",
   "version": "3.11.6"
  }
 },
 "nbformat": 4,
 "nbformat_minor": 5
}
