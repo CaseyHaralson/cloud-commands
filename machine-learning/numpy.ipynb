{
 "cells": [
  {
   "cell_type": "code",
   "execution_count": 1,
   "id": "c8c6cd68-8f98-40a1-88c2-a699a13205da",
   "metadata": {},
   "outputs": [],
   "source": [
    "import numpy as np"
   ]
  },
  {
   "cell_type": "code",
   "execution_count": 5,
   "id": "b312912a-ac29-442d-87d5-d392459ce053",
   "metadata": {},
   "outputs": [
    {
     "data": {
      "text/plain": [
       "array([[ 1.5, -0.1,  3. ],\n",
       "       [ 0. , -3. ,  6.5]])"
      ]
     },
     "execution_count": 5,
     "metadata": {},
     "output_type": "execute_result"
    }
   ],
   "source": [
    "# numpy array\n",
    "data = np.array([[1.5, -0.1, 3], [0, -3, 6.5]])\n",
    "data"
   ]
  },
  {
   "cell_type": "code",
   "execution_count": 6,
   "id": "efc05f28-89ad-49c4-bce6-708d3eed692f",
   "metadata": {},
   "outputs": [
    {
     "data": {
      "text/plain": [
       "(array([[ 15.,  -1.,  30.],\n",
       "        [  0., -30.,  65.]]),\n",
       " array([[ 3. , -0.2,  6. ],\n",
       "        [ 0. , -6. , 13. ]]))"
      ]
     },
     "execution_count": 6,
     "metadata": {},
     "output_type": "execute_result"
    }
   ],
   "source": [
    "# basic operations\n",
    "data * 10, data + data"
   ]
  },
  {
   "cell_type": "code",
   "execution_count": 7,
   "id": "8422875e-9a93-4d4e-8fa4-abdde0172efb",
   "metadata": {},
   "outputs": [
    {
     "data": {
      "text/plain": [
       "(2, (2, 3), dtype('float64'))"
      ]
     },
     "execution_count": 7,
     "metadata": {},
     "output_type": "execute_result"
    }
   ],
   "source": [
    "# array info\n",
    "d_dim = data.ndim\n",
    "d_shape = data.shape\n",
    "d_type = data.dtype\n",
    "\n",
    "d_dim, d_shape, d_type"
   ]
  },
  {
   "cell_type": "markdown",
   "id": "21f9f411-290a-4853-abe5-abdea0b8391a",
   "metadata": {},
   "source": [
    "## Default Arrays\n",
    "\n",
    "Creation functions: https://wesmckinney.com/book/numpy-basics#tbl-table_array_ctor"
   ]
  },
  {
   "cell_type": "code",
   "execution_count": 8,
   "id": "9a6505c0-8e6c-4be3-b3f6-862ba712a0ee",
   "metadata": {},
   "outputs": [
    {
     "data": {
      "text/plain": [
       "array([[0., 0., 0., 0., 0.],\n",
       "       [0., 0., 0., 0., 0.]])"
      ]
     },
     "execution_count": 8,
     "metadata": {},
     "output_type": "execute_result"
    }
   ],
   "source": [
    "# zeros\n",
    "np.zeros((2, 5))"
   ]
  },
  {
   "cell_type": "code",
   "execution_count": 9,
   "id": "25eb9804-394a-4f03-9c2c-7f121900c9a5",
   "metadata": {},
   "outputs": [
    {
     "data": {
      "text/plain": [
       "array([[1., 1., 1.],\n",
       "       [1., 1., 1.],\n",
       "       [1., 1., 1.]])"
      ]
     },
     "execution_count": 9,
     "metadata": {},
     "output_type": "execute_result"
    }
   ],
   "source": [
    "# ones\n",
    "np.ones((3, 3))"
   ]
  },
  {
   "cell_type": "code",
   "execution_count": 11,
   "id": "3add364e-22a3-4840-980c-692e47e21925",
   "metadata": {},
   "outputs": [
    {
     "data": {
      "text/plain": [
       "array([[ 3. ,  0.2,  6. ,  6. , 13. ]])"
      ]
     },
     "execution_count": 11,
     "metadata": {},
     "output_type": "execute_result"
    }
   ],
   "source": [
    "# empty\n",
    "# this gives random values based on memory\n",
    "# so only use if you are going to set the values later\n",
    "np.empty((1, 5))"
   ]
  },
  {
   "cell_type": "code",
   "execution_count": 12,
   "id": "98c64afc-6211-4231-865a-dd22d5ad0811",
   "metadata": {},
   "outputs": [
    {
     "data": {
      "text/plain": [
       "array([[1., 0., 0.],\n",
       "       [0., 1., 0.],\n",
       "       [0., 0., 1.]])"
      ]
     },
     "execution_count": 12,
     "metadata": {},
     "output_type": "execute_result"
    }
   ],
   "source": [
    "# eye\n",
    "np.eye(3)"
   ]
  },
  {
   "cell_type": "markdown",
   "id": "0f33be62-cb2f-48ae-98e9-61c083ac12d3",
   "metadata": {},
   "source": [
    "## Data Types\n",
    "\n",
    "Data Types: https://wesmckinney.com/book/numpy-basics#tbl-table_array_dtypes"
   ]
  },
  {
   "cell_type": "code",
   "execution_count": 15,
   "id": "89799b44-5de6-4fb2-83ca-df0e58a3fb18",
   "metadata": {},
   "outputs": [
    {
     "data": {
      "text/plain": [
       "array([1, 2, 3], dtype=int32)"
      ]
     },
     "execution_count": 15,
     "metadata": {},
     "output_type": "execute_result"
    }
   ],
   "source": [
    "# int array with specified data type\n",
    "int_arr = np.array([1, 2, 3], dtype=np.int32)\n",
    "int_arr"
   ]
  },
  {
   "cell_type": "code",
   "execution_count": 16,
   "id": "6538a291-8aaa-40cc-b581-20b561587a6f",
   "metadata": {},
   "outputs": [
    {
     "data": {
      "text/plain": [
       "array([1., 2., 3.], dtype=float16)"
      ]
     },
     "execution_count": 16,
     "metadata": {},
     "output_type": "execute_result"
    }
   ],
   "source": [
    "# convert between data types\n",
    "# note: this can truncate data\n",
    "int_arr.astype(np.float16)"
   ]
  },
  {
   "cell_type": "markdown",
   "id": "54f6ed36-23b5-4094-b458-f137a6305dc0",
   "metadata": {},
   "source": [
    "## Indexing and Slicing\n",
    "\n",
    "Indexing and slicing doesn't give a new array. So, any modifications will reflected in the original array."
   ]
  },
  {
   "cell_type": "code",
   "execution_count": 21,
   "id": "b4cbecf0-69be-41ae-aa41-7fd3f18695d0",
   "metadata": {},
   "outputs": [
    {
     "data": {
      "text/plain": [
       "(array([1, 2, 3, 4, 5, 6, 7]),\n",
       " array([[1, 2, 3],\n",
       "        [4, 5, 6]]))"
      ]
     },
     "execution_count": 21,
     "metadata": {},
     "output_type": "execute_result"
    }
   ],
   "source": [
    "vect = np.array([1,2,3,4,5,6,7])\n",
    "arr = np.array([[1,2,3],[4,5,6]])\n",
    "vect, arr"
   ]
  },
  {
   "cell_type": "code",
   "execution_count": 25,
   "id": "f3158b47-3886-4054-9de6-7515b59a4e28",
   "metadata": {},
   "outputs": [
    {
     "data": {
      "text/plain": [
       "(4, 6)"
      ]
     },
     "execution_count": 25,
     "metadata": {},
     "output_type": "execute_result"
    }
   ],
   "source": [
    "# get one element\n",
    "one_el = vect[3]\n",
    "one_a_el = arr[1,2]\n",
    "\n",
    "one_el, one_a_el"
   ]
  },
  {
   "cell_type": "code",
   "execution_count": 26,
   "id": "ee2c2eb3-df70-45a5-9ba5-ac7fbde5203d",
   "metadata": {},
   "outputs": [
    {
     "data": {
      "text/plain": [
       "(array([3, 4, 5]), array([1, 2, 3]))"
      ]
     },
     "execution_count": 26,
     "metadata": {},
     "output_type": "execute_result"
    }
   ],
   "source": [
    "# or a few elements\n",
    "mult_el = vect[2:5]\n",
    "mult_a_el = arr[0,:]\n",
    "\n",
    "mult_el, mult_a_el"
   ]
  },
  {
   "cell_type": "code",
   "execution_count": 31,
   "id": "1d57d088-411b-4c7f-a319-51c23878bc65",
   "metadata": {},
   "outputs": [
    {
     "data": {
      "text/plain": [
       "(array([10,  4,  5]), array([ 1,  2, 10,  4,  5,  6,  7]))"
      ]
     },
     "execution_count": 31,
     "metadata": {},
     "output_type": "execute_result"
    }
   ],
   "source": [
    "# modify original array from a slice\n",
    "new_vect = vect[2:5]\n",
    "new_vect[0] = 10\n",
    "\n",
    "new_vect, vect"
   ]
  },
  {
   "cell_type": "markdown",
   "id": "fe0615b9-c5d6-4ad7-b888-5f756203e8ce",
   "metadata": {},
   "source": [
    "## Boolean Indexing"
   ]
  },
  {
   "cell_type": "code",
   "execution_count": 35,
   "id": "5f2c1685-7287-4922-8c30-2b9946e7fe6c",
   "metadata": {},
   "outputs": [
    {
     "data": {
      "text/plain": [
       "array([[False, False,  True],\n",
       "       [ True,  True,  True]])"
      ]
     },
     "execution_count": 35,
     "metadata": {},
     "output_type": "execute_result"
    }
   ],
   "source": [
    "# values in the array that are greater than 2\n",
    "arr > 2"
   ]
  },
  {
   "cell_type": "code",
   "execution_count": 36,
   "id": "a6da9eb4-b412-4524-b1b5-3957f545abb8",
   "metadata": {},
   "outputs": [
    {
     "data": {
      "text/plain": [
       "array([3, 4, 5, 6])"
      ]
     },
     "execution_count": 36,
     "metadata": {},
     "output_type": "execute_result"
    }
   ],
   "source": [
    "# returning values that are greater than 2\n",
    "arr[arr > 2]"
   ]
  },
  {
   "cell_type": "markdown",
   "id": "13b190db-2cbd-42d5-beba-c8697fe2a842",
   "metadata": {},
   "source": [
    "## Transposing and Reshaping"
   ]
  },
  {
   "cell_type": "code",
   "execution_count": 44,
   "id": "e847f8ae-dee3-4aef-83ec-c7def0814a5d",
   "metadata": {},
   "outputs": [
    {
     "data": {
      "text/plain": [
       "(array([ 1,  2, 10,  4,  5,  6,  7]),\n",
       " array([[1, 2, 3],\n",
       "        [4, 5, 6]]))"
      ]
     },
     "execution_count": 44,
     "metadata": {},
     "output_type": "execute_result"
    }
   ],
   "source": [
    "# what do those arrays look like again?\n",
    "vect, arr"
   ]
  },
  {
   "cell_type": "code",
   "execution_count": 52,
   "id": "d000c009-c408-4c39-9199-83862e4ffdc3",
   "metadata": {},
   "outputs": [
    {
     "data": {
      "text/plain": [
       "array([[1, 4],\n",
       "       [2, 5],\n",
       "       [3, 6]])"
      ]
     },
     "execution_count": 52,
     "metadata": {},
     "output_type": "execute_result"
    }
   ],
   "source": [
    "# transpose with the build in T attribute\n",
    "# or with the swapaxes function like arr.swapaxes(0,1)\n",
    "arr.T"
   ]
  },
  {
   "cell_type": "code",
   "execution_count": 53,
   "id": "766d9979-bab3-4eb8-b694-d4daf300cc9e",
   "metadata": {},
   "outputs": [
    {
     "data": {
      "text/plain": [
       "(array([1, 2, 3, 4, 5, 6]),\n",
       " array([[1, 2],\n",
       "        [3, 4],\n",
       "        [5, 6]]))"
      ]
     },
     "execution_count": 53,
     "metadata": {},
     "output_type": "execute_result"
    }
   ],
   "source": [
    "# reshape the array, but it must fit all the data\n",
    "arr.reshape(1,6)[0], arr.reshape(3,2)"
   ]
  },
  {
   "cell_type": "markdown",
   "id": "536af282-68ec-4f2f-84f4-3c2df14f2cc0",
   "metadata": {},
   "source": [
    "## Fast Element-Wise Functions\n",
    "\n",
    "Single array functions:\n",
    "https://wesmckinney.com/book/numpy-basics#tbl-table_unary_ufuncs\n",
    "\n",
    "Multiple array functions:\n",
    "https://wesmckinney.com/book/numpy-basics#tbl-table_binary_ufuncs\n",
    "\n",
    "Random number generator functions:\n",
    "https://wesmckinney.com/book/numpy-basics#tbl-table_numpy_random"
   ]
  },
  {
   "cell_type": "code",
   "execution_count": 57,
   "id": "2fb5de33-9157-48e6-a4a8-884251ef798e",
   "metadata": {},
   "outputs": [
    {
     "data": {
      "text/plain": [
       "(array([-1.42382504,  1.26372846, -0.87066174, -0.25917323, -0.07534331,\n",
       "        -0.74088465, -1.3677927 ,  0.6488928 ]),\n",
       " array([ 0.36105811, -1.95286306,  2.34740965,  0.96849691, -0.75938718,\n",
       "         0.90219827, -0.46695317, -0.06068952]))"
      ]
     },
     "execution_count": 57,
     "metadata": {},
     "output_type": "execute_result"
    }
   ],
   "source": [
    "# create a random number generator\n",
    "rng = np.random.default_rng(seed=12345)\n",
    "\n",
    "# create some random vectors\n",
    "x = rng.standard_normal(8)\n",
    "y = rng.standard_normal(8)\n",
    "\n",
    "x, y"
   ]
  },
  {
   "cell_type": "code",
   "execution_count": 59,
   "id": "939b1263-1401-427e-be85-fe59b94b2928",
   "metadata": {},
   "outputs": [
    {
     "data": {
      "text/plain": [
       "array([ 0.36105811,  1.26372846,  2.34740965,  0.96849691, -0.07534331,\n",
       "        0.90219827, -0.46695317,  0.6488928 ])"
      ]
     },
     "execution_count": 59,
     "metadata": {},
     "output_type": "execute_result"
    }
   ],
   "source": [
    "# find the maximum values between the two\n",
    "np.maximum(x, y)"
   ]
  },
  {
   "cell_type": "code",
   "execution_count": 67,
   "id": "0b061c5e-4cfc-4e48-9894-cd8b6a946068",
   "metadata": {},
   "outputs": [
    {
     "data": {
      "text/plain": [
       "array([-1.,  1., -1., -0., -0., -1., -1.,  1.])"
      ]
     },
     "execution_count": 67,
     "metadata": {},
     "output_type": "execute_result"
    }
   ],
   "source": [
    "# round each cell value\n",
    "np.rint(x)"
   ]
  },
  {
   "cell_type": "markdown",
   "id": "17996059-e93c-46f7-875c-93f30e020792",
   "metadata": {},
   "source": [
    "## Conditional Logic"
   ]
  },
  {
   "cell_type": "code",
   "execution_count": 69,
   "id": "c8dcba1f-9108-4b77-8478-81f9275229b6",
   "metadata": {},
   "outputs": [
    {
     "data": {
      "text/plain": [
       "array([[-0.95898831, -1.20938829, -1.41229201,  0.54154683],\n",
       "       [ 0.7519394 , -0.65876032, -1.22867499,  0.25755777],\n",
       "       [ 0.31290292, -0.13081169,  1.26998312, -0.09296246],\n",
       "       [-0.06615089, -1.10821447,  0.13595685,  1.34707776]])"
      ]
     },
     "execution_count": 69,
     "metadata": {},
     "output_type": "execute_result"
    }
   ],
   "source": [
    "# create a randomly filled array\n",
    "arr = rng.standard_normal((4, 4))\n",
    "arr"
   ]
  },
  {
   "cell_type": "code",
   "execution_count": 71,
   "id": "3d0227bf-f65e-442b-9c04-843be38e1a26",
   "metadata": {},
   "outputs": [
    {
     "data": {
      "text/plain": [
       "array([[0.        , 0.        , 0.        , 0.54154683],\n",
       "       [0.7519394 , 0.        , 0.        , 0.25755777],\n",
       "       [0.31290292, 0.        , 1.26998312, 0.        ],\n",
       "       [0.        , 0.        , 0.13595685, 1.34707776]])"
      ]
     },
     "execution_count": 71,
     "metadata": {},
     "output_type": "execute_result"
    }
   ],
   "source": [
    "# make all the negative cells 0\n",
    "# where(condition, if true, if false)\n",
    "np.where(arr < 0, 0, arr)"
   ]
  },
  {
   "cell_type": "markdown",
   "id": "5e24823a-ab5a-4e36-8f32-c5397f83dc7d",
   "metadata": {},
   "source": [
    "## Statistical Methods\n",
    "\n",
    "Stat functions: https://wesmckinney.com/book/numpy-basics#tbl-table_statistical_methods"
   ]
  },
  {
   "cell_type": "code",
   "execution_count": 81,
   "id": "70a30790-50cb-45ab-bb62-208e9b29c25a",
   "metadata": {},
   "outputs": [
    {
     "data": {
      "text/plain": [
       "array([[-1.99585661, -0.15524762,  1.06383087, -0.27517157],\n",
       "       [-1.85333593, -0.12434193,  0.78497452,  0.2019986 ],\n",
       "       [-0.42807444,  1.8482889 ,  1.89995289, -0.09842503],\n",
       "       [ 0.81344544,  0.39249439,  0.7814429 ,  1.45327152],\n",
       "       [ 0.82018605,  0.08770534, -0.65350565, -0.81188688]])"
      ]
     },
     "execution_count": 81,
     "metadata": {},
     "output_type": "execute_result"
    }
   ],
   "source": [
    "arr = rng.standard_normal((5, 4))\n",
    "arr"
   ]
  },
  {
   "cell_type": "code",
   "execution_count": 82,
   "id": "baf15a58-0009-4924-af56-b90f9d4c3423",
   "metadata": {},
   "outputs": [
    {
     "data": {
      "text/plain": [
       "(0.18758728798285568,\n",
       " array([-0.34061123, -0.24767618,  0.80543558,  0.86016356, -0.13937528]))"
      ]
     },
     "execution_count": 82,
     "metadata": {},
     "output_type": "execute_result"
    }
   ],
   "source": [
    "# find the mean of the entire array\n",
    "# or along an axis (0 is within each column, 1 is across each row)\n",
    "arr.mean(), arr.mean(axis=1)"
   ]
  },
  {
   "cell_type": "markdown",
   "id": "b00e6fe4-a280-446f-bada-1ca2368e069a",
   "metadata": {},
   "source": [
    "## Sorting\n",
    "\n",
    "Calling sort on the array will perform the sort in place. Calling the np.sort() function will perform the sort on a copy of the array."
   ]
  },
  {
   "cell_type": "code",
   "execution_count": 84,
   "id": "e522d95c-a8cb-4ead-bdef-d81e148f64e1",
   "metadata": {},
   "outputs": [
    {
     "data": {
      "text/plain": [
       "(array([ 0.28208603, -0.62361213,  1.12182226,  0.84122103, -0.7758961 ,\n",
       "         0.41071644]),\n",
       " array([-0.7758961 , -0.62361213,  0.28208603,  0.41071644,  0.84122103,\n",
       "         1.12182226]))"
      ]
     },
     "execution_count": 84,
     "metadata": {},
     "output_type": "execute_result"
    }
   ],
   "source": [
    "# sorting a vector\n",
    "arr = rng.standard_normal(6)\n",
    "arr, np.sort(arr)"
   ]
  },
  {
   "cell_type": "code",
   "execution_count": 85,
   "id": "40be136a-9f19-4cd9-aa11-6eb481c8d74d",
   "metadata": {},
   "outputs": [
    {
     "data": {
      "text/plain": [
       "(array([[-2.7224161 , -0.6733048 ,  1.24622153],\n",
       "        [ 0.79020803,  0.17534089, -0.0292946 ],\n",
       "        [-1.41951426, -1.35996632,  0.22341156],\n",
       "        [ 1.76177943, -2.17088985,  0.62848817],\n",
       "        [ 0.60119653,  0.95075786, -0.86924667]]),\n",
       " array([[-2.7224161 , -0.6733048 ,  1.24622153],\n",
       "        [-0.0292946 ,  0.17534089,  0.79020803],\n",
       "        [-1.41951426, -1.35996632,  0.22341156],\n",
       "        [-2.17088985,  0.62848817,  1.76177943],\n",
       "        [-0.86924667,  0.60119653,  0.95075786]]))"
      ]
     },
     "execution_count": 85,
     "metadata": {},
     "output_type": "execute_result"
    }
   ],
   "source": [
    "# sorting a matrix across an axis (0 is within each column, and 1 is across each row)\n",
    "arr = rng.standard_normal((5, 3))\n",
    "arr, np.sort(arr, axis=1)"
   ]
  },
  {
   "cell_type": "markdown",
   "id": "a2cb9e5c-e16a-4055-b989-334a9a8564c2",
   "metadata": {},
   "source": [
    "## Linear Algebra\n",
    "\n",
    "Linear algebra functions: https://wesmckinney.com/book/numpy-basics#tbl-table_numpy_linalg"
   ]
  },
  {
   "cell_type": "code",
   "execution_count": 86,
   "id": "c6dba357-4494-402e-8698-cc1ec08449cc",
   "metadata": {},
   "outputs": [
    {
     "data": {
      "text/plain": [
       "(array([[1., 2., 3.],\n",
       "        [4., 5., 6.]]),\n",
       " array([[ 6., 23.],\n",
       "        [-1.,  7.],\n",
       "        [ 8.,  9.]]))"
      ]
     },
     "execution_count": 86,
     "metadata": {},
     "output_type": "execute_result"
    }
   ],
   "source": [
    "x = np.array([[1., 2., 3.], [4., 5., 6.]])\n",
    "y = np.array([[6., 23.], [-1, 7], [8, 9]])\n",
    "x, y"
   ]
  },
  {
   "cell_type": "code",
   "execution_count": 87,
   "id": "3ce6722e-10f1-46f6-93bd-45b567b96eaa",
   "metadata": {},
   "outputs": [
    {
     "data": {
      "text/plain": [
       "array([[ 28.,  64.],\n",
       "       [ 67., 181.]])"
      ]
     },
     "execution_count": 87,
     "metadata": {},
     "output_type": "execute_result"
    }
   ],
   "source": [
    "# matrix multiplication\n",
    "x.dot(y)"
   ]
  },
  {
   "cell_type": "code",
   "execution_count": null,
   "id": "7eded965-78e8-4bbb-86f3-083d8ba8728b",
   "metadata": {},
   "outputs": [],
   "source": []
  }
 ],
 "metadata": {
  "kernelspec": {
   "display_name": "Python 3 (ipykernel)",
   "language": "python",
   "name": "python3"
  },
  "language_info": {
   "codemirror_mode": {
    "name": "ipython",
    "version": 3
   },
   "file_extension": ".py",
   "mimetype": "text/x-python",
   "name": "python",
   "nbconvert_exporter": "python",
   "pygments_lexer": "ipython3",
   "version": "3.11.6"
  }
 },
 "nbformat": 4,
 "nbformat_minor": 5
}
